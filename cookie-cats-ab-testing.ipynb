{
 "cells": [
  {
   "cell_type": "markdown",
   "metadata": {},
   "source": [
    "# Load and explore data"
   ]
  },
  {
   "cell_type": "code",
   "execution_count": 1,
   "metadata": {
    "vscode": {
     "languageId": "r"
    }
   },
   "outputs": [
    {
     "name": "stderr",
     "output_type": "stream",
     "text": [
      "Warning message:\n",
      "\"package 'tidyverse' was built under R version 4.3.3\"\n",
      "Warning message:\n",
      "\"package 'forcats' was built under R version 4.3.3\"\n",
      "── \u001b[1mAttaching core tidyverse packages\u001b[22m ──────────────────────── tidyverse 2.0.0 ──\n",
      "\u001b[32m✔\u001b[39m \u001b[34mdplyr    \u001b[39m 1.1.2     \u001b[32m✔\u001b[39m \u001b[34mreadr    \u001b[39m 2.1.4\n",
      "\u001b[32m✔\u001b[39m \u001b[34mforcats  \u001b[39m 1.0.0     \u001b[32m✔\u001b[39m \u001b[34mstringr  \u001b[39m 1.5.0\n",
      "\u001b[32m✔\u001b[39m \u001b[34mggplot2  \u001b[39m 3.4.2     \u001b[32m✔\u001b[39m \u001b[34mtibble   \u001b[39m 3.2.1\n",
      "\u001b[32m✔\u001b[39m \u001b[34mlubridate\u001b[39m 1.9.2     \u001b[32m✔\u001b[39m \u001b[34mtidyr    \u001b[39m 1.3.0\n",
      "\u001b[32m✔\u001b[39m \u001b[34mpurrr    \u001b[39m 1.0.2     \n",
      "── \u001b[1mConflicts\u001b[22m ────────────────────────────────────────── tidyverse_conflicts() ──\n",
      "\u001b[31m✖\u001b[39m \u001b[34mdplyr\u001b[39m::\u001b[32mfilter()\u001b[39m masks \u001b[34mstats\u001b[39m::filter()\n",
      "\u001b[31m✖\u001b[39m \u001b[34mdplyr\u001b[39m::\u001b[32mlag()\u001b[39m    masks \u001b[34mstats\u001b[39m::lag()\n",
      "\u001b[36mℹ\u001b[39m Use the conflicted package (\u001b[3m\u001b[34m<http://conflicted.r-lib.org/>\u001b[39m\u001b[23m) to force all conflicts to become errors\n"
     ]
    },
    {
     "name": "stdout",
     "output_type": "stream",
     "text": [
      "Rows: 90,189\n",
      "Columns: 5\n",
      "$ userid         \u001b[3m\u001b[90m<int>\u001b[39m\u001b[23m 116, 337, 377, 483, 488, 540, 1066, 1444, 1574, 1587, 1…\n",
      "$ version        \u001b[3m\u001b[90m<chr>\u001b[39m\u001b[23m \"gate_30\", \"gate_30\", \"gate_40\", \"gate_40\", \"gate_40\", …\n",
      "$ sum_gamerounds \u001b[3m\u001b[90m<int>\u001b[39m\u001b[23m 3, 38, 165, 1, 179, 187, 0, 2, 108, 153, 3, 0, 30, 39, …\n",
      "$ retention_1    \u001b[3m\u001b[90m<lgl>\u001b[39m\u001b[23m FALSE, TRUE, TRUE, FALSE, TRUE, TRUE, FALSE, FALSE, TRU…\n",
      "$ retention_7    \u001b[3m\u001b[90m<lgl>\u001b[39m\u001b[23m FALSE, FALSE, FALSE, FALSE, TRUE, TRUE, FALSE, FALSE, T…\n"
     ]
    },
    {
     "data": {
      "text/plain": [
       "     userid          version          sum_gamerounds     retention_1    \n",
       " Min.   :    116   Length:90189       Min.   :    0.00   Mode :logical  \n",
       " 1st Qu.:2512230   Class :character   1st Qu.:    5.00   FALSE:50036    \n",
       " Median :4995815   Mode  :character   Median :   16.00   TRUE :40153    \n",
       " Mean   :4998412                      Mean   :   51.87                  \n",
       " 3rd Qu.:7496452                      3rd Qu.:   51.00                  \n",
       " Max.   :9999861                      Max.   :49854.00                  \n",
       " retention_7    \n",
       " Mode :logical  \n",
       " FALSE:73408    \n",
       " TRUE :16781    \n",
       "                \n",
       "                \n",
       "                "
      ]
     },
     "metadata": {},
     "output_type": "display_data"
    }
   ],
   "source": [
    "# Load necessary libraries\n",
    "library(tidyverse)\n",
    "library(ggplot2)\n",
    "\n",
    "# Load the dataset\n",
    "data <- read.csv(\"input\\\\cookie_cats.csv\")\n",
    "\n",
    "# convert rentention into lgl\n",
    "data <- data %>%\n",
    "  mutate(\n",
    "    retention_1 = if_else(retention_1 == \"True\", TRUE, FALSE),\n",
    "    retention_7 = if_else(retention_7 == \"True\", TRUE, FALSE)\n",
    "  )\n",
    "\n",
    "# Explore the data\n",
    "glimpse(data)\n",
    "summary(data)"
   ]
  },
  {
   "cell_type": "markdown",
   "metadata": {},
   "source": [
    "# The distribution of game rounds"
   ]
  },
  {
   "cell_type": "code",
   "execution_count": 2,
   "metadata": {
    "vscode": {
     "languageId": "r"
    }
   },
   "outputs": [
    {
     "data": {
      "image/png": "[encoded data removed]",
      "text/plain": [
       "plot without title"
      ]
     },
     "metadata": {
      "image/png": {
       "height": 420,
       "width": 420
      }
     },
     "output_type": "display_data"
    }
   ],
   "source": [
    "# Counting the number of players for each number of gamerounds\n",
    "plot_df <- data %>%\n",
    "  group_by(sum_gamerounds) %>%\n",
    "  summarize(count = n())\n",
    "\n",
    "# Plotting the distribution of players that played 0 to 100 game rounds\n",
    "plot_df %>%\n",
    "  filter(sum_gamerounds <= 100) %>%\n",
    "  ggplot(aes(x = sum_gamerounds, y = count)) +\n",
    "  geom_line() +\n",
    "  labs(\n",
    "    title = \"The distribution of players\",\n",
    "    x = \"Total gamerounds\",\n",
    "    y = \"Number of players\"\n",
    "  ) +\n",
    "  theme_minimal() +\n",
    "  theme(\n",
    "    plot.title = element_text(face = \"bold\", size = 14),\n",
    "    axis.title.x = element_text(size = 12),\n",
    "    axis.title.y = element_text(size = 12)\n",
    "  )"
   ]
  },
  {
   "cell_type": "markdown",
   "metadata": {},
   "source": [
    "# Prepare the data for A/B Testing Analysis"
   ]
  },
  {
   "cell_type": "code",
   "execution_count": 3,
   "metadata": {
    "vscode": {
     "languageId": "r"
    }
   },
   "outputs": [
    {
     "name": "stdout",
     "output_type": "stream",
     "text": [
      "1-day retention ratio: 44.52% \n",
      "7-day retention ratio: 18.61%"
     ]
    }
   ],
   "source": [
    "# Convert boolean columns to numeric\n",
    "data <- data %>%\n",
    "  mutate(across(c(retention_1, retention_7), as.numeric))\n",
    "\n",
    "# Calculate the mean retention rates for day 1 and day 7, and multiply by 100\n",
    "data_retention <- colMeans(data[c(\"retention_1\", \"retention_7\")]) * 100\n",
    "\n",
    "# Calculate the mean retention rates for day 1 and day 7, and multiply by 100\n",
    "data_rentention <- colMeans(data[c(\"retention_1\", \"retention_7\")]) * 100\n",
    "\n",
    "# Print the 1-day and 7-day retention ratios, rounded to 2 decimal places\n",
    "cat(sprintf(\"1-day retention ratio: %.2f%% \\n7-day retention ratio: %.2f%%\",\n",
    "            round(data_rentention[1], 2), round(data_rentention[2], 2)))"
   ]
  },
  {
   "cell_type": "markdown",
   "metadata": {},
   "source": [
    "# Calculating 1-day and 7-day retention for each A/B group"
   ]
  },
  {
   "cell_type": "code",
   "execution_count": 4,
   "metadata": {
    "vscode": {
     "languageId": "r"
    }
   },
   "outputs": [
    {
     "name": "stdout",
     "output_type": "stream",
     "text": [
      "\u001b[90m# A tibble: 2 × 5\u001b[39m\n",
      "  version userid_count retention_1_mean retention_7_mean sum_gamerounds_sum\n",
      "  \u001b[3m\u001b[90m<chr>\u001b[39m\u001b[23m          \u001b[3m\u001b[90m<int>\u001b[39m\u001b[23m            \u001b[3m\u001b[90m<dbl>\u001b[39m\u001b[23m            \u001b[3m\u001b[90m<dbl>\u001b[39m\u001b[23m              \u001b[3m\u001b[90m<int>\u001b[39m\u001b[23m\n",
      "\u001b[90m1\u001b[39m gate_30        \u001b[4m4\u001b[24m\u001b[4m4\u001b[24m700            0.448            0.190            2\u001b[4m3\u001b[24m\u001b[4m4\u001b[24m\u001b[4m4\u001b[24m795\n",
      "\u001b[90m2\u001b[39m gate_40        \u001b[4m4\u001b[24m\u001b[4m5\u001b[24m489            0.442            0.182            2\u001b[4m3\u001b[24m\u001b[4m3\u001b[24m\u001b[4m3\u001b[24m530\n"
     ]
    }
   ],
   "source": [
    "# Perform the aggregation\n",
    "df_retention_ab <- data %>%\n",
    "  group_by(version) %>%\n",
    "  summarize(\n",
    "    userid_count = n(),\n",
    "    retention_1_mean = mean(retention_1, na.rm = TRUE),\n",
    "    retention_7_mean = mean(retention_7, na.rm = TRUE),\n",
    "    sum_gamerounds_sum = sum(sum_gamerounds, na.rm = TRUE)\n",
    "  )\n",
    "\n",
    "# Print the resulting dataframe\n",
    "print(df_retention_ab)"
   ]
  },
  {
   "cell_type": "markdown",
   "metadata": {},
   "source": [
    "# A/B Testing: Bootstrapping"
   ]
  },
  {
   "cell_type": "code",
   "execution_count": 5,
   "metadata": {
    "vscode": {
     "languageId": "r"
    }
   },
   "outputs": [
    {
     "name": "stderr",
     "output_type": "stream",
     "text": [
      "\n",
      "Attaching package: 'gridExtra'\n",
      "\n",
      "\n",
      "The following object is masked from 'package:dplyr':\n",
      "\n",
      "    combine\n",
      "\n",
      "\n"
     ]
    },
    {
     "data": {
      "image/png": "[encoded data removed]",
      "text/plain": [
       "plot without title"
      ]
     },
     "metadata": {
      "image/png": {
       "height": 420,
       "width": 420
      }
     },
     "output_type": "display_data"
    }
   ],
   "source": [
    "# Initialize lists to store bootstrap results\n",
    "boot_1d <- list()\n",
    "boot_7d <- list()\n",
    "\n",
    "# Perform bootstrapping\n",
    "set.seed(123)  # For reproducibility\n",
    "for (i in 1:500) {\n",
    "  boot_sample <- data %>% sample_frac(replace = TRUE)\n",
    "  boot_mean_1 <- boot_sample %>% group_by(version) %>% summarize(mean_retention_1 = mean(retention_1, na.rm = TRUE))\n",
    "  boot_mean_7 <- boot_sample %>% group_by(version) %>% summarize(mean_retention_7 = mean(retention_7, na.rm = TRUE))\n",
    "  boot_1d[[i]] <- boot_mean_1\n",
    "  boot_7d[[i]] <- boot_mean_7\n",
    "}\n",
    "\n",
    "# Combine the bootstrapped samples into dataframes\n",
    "boot_1d_df <- bind_rows(boot_1d, .id = \"boot_id\")\n",
    "boot_7d_df <- bind_rows(boot_7d, .id = \"boot_id\")\n",
    "\n",
    "# Plot Kernel Density Estimate of the bootstrap distributions\n",
    "p1 <- boot_1d_df %>%\n",
    "  ggplot(aes(x = mean_retention_1, color = version, fill = version)) +\n",
    "  geom_density(alpha = 0.5) +\n",
    "  labs(\n",
    "    title = \"1 day retention rate distribution\",\n",
    "    x = \"Retention rate\",\n",
    "    y = \"Density\"\n",
    "  ) +\n",
    "  theme_minimal() +\n",
    "  theme(\n",
    "    plot.title = element_text(face = \"bold\", size = 14),\n",
    "    axis.title.x = element_text(size = 12),\n",
    "    axis.title.y = element_text(size = 12)\n",
    "  )\n",
    "\n",
    "p2 <- boot_7d_df %>%\n",
    "  ggplot(aes(x = mean_retention_7, color = version, fill = version)) +\n",
    "  geom_density(alpha = 0.5) +\n",
    "  labs(\n",
    "    title = \"7 days retention rate distribution\",\n",
    "    x = \"Retention rate\",\n",
    "    y = \"Density\"\n",
    "  ) +\n",
    "  theme_minimal() +\n",
    "  theme(\n",
    "    plot.title = element_text(face = \"bold\", size = 14),\n",
    "    axis.title.x = element_text(size = 12),\n",
    "    axis.title.y = element_text(size = 12)\n",
    "  )\n",
    "\n",
    "# Arrange plots side by side\n",
    "library(gridExtra)\n",
    "grid.arrange(p1, p2, ncol = 2)"
   ]
  },
  {
   "cell_type": "markdown",
   "metadata": {},
   "source": [
    "# Zooming in on the differences"
   ]
  },
  {
   "cell_type": "code",
   "execution_count": 6,
   "metadata": {
    "vscode": {
     "languageId": "r"
    }
   },
   "outputs": [
    {
     "data": {
      "image/png": "[encoded data removed]",
      "text/plain": [
       "plot without title"
      ]
     },
     "metadata": {
      "image/png": {
       "height": 420,
       "width": 420
      }
     },
     "output_type": "display_data"
    }
   ],
   "source": [
    "# Adding a column with the % difference between the two A/B groups\n",
    "boot_1d <- boot_1d_df %>%\n",
    "  group_by(boot_id) %>%\n",
    "  mutate(\n",
    "    diff = ((mean_retention_1[version == \"gate_30\"] - mean_retention_1[version == \"gate_40\"]) / mean_retention_1[version == \"gate_40\"]) * 100\n",
    "  ) %>%\n",
    "  ungroup() \n",
    "\n",
    "boot_7d <- boot_7d_df %>%\n",
    "  group_by(boot_id) %>%\n",
    "  mutate(\n",
    "    diff = ((mean_retention_7[version == \"gate_30\"] - mean_retention_7[version == \"gate_40\"]) / mean_retention_7[version == \"gate_40\"]) * 100\n",
    "  ) %>%\n",
    "  ungroup() \n",
    "\n",
    "# Plotting the bootstrap % difference\n",
    "p <- ggplot() +\n",
    "  geom_density(data = boot_1d, aes(x = diff, color = \"1 day retention\"), alpha = 0.5) +\n",
    "  geom_density(data = boot_7d, aes(x = diff, color = \"7 days retention\"), alpha = 0.5) +\n",
    "  labs(\n",
    "    x = \"% difference\",\n",
    "    y = \"% density\",\n",
    "    title = \"Difference in retention \\n between the two A/B groups\",\n",
    "    color = \"Retention\"\n",
    "  ) +\n",
    "  theme_minimal() +\n",
    "  theme(\n",
    "    plot.title = element_text(face = \"bold\", size = 14),\n",
    "    axis.title.x = element_text(size = 12),\n",
    "    axis.title.y = element_text(size = 12)\n",
    "  ) +\n",
    "  scale_color_manual(values = c(\"#ff99ff\", \"#00bfff\"), labels = c(\"1 day retention\", \"7 days retention\"))\n",
    "\n",
    "print(p)"
   ]
  },
  {
   "cell_type": "markdown",
   "metadata": {},
   "source": [
    "# Probabities"
   ]
  },
  {
   "cell_type": "code",
   "execution_count": 7,
   "metadata": {
    "vscode": {
     "languageId": "r"
    }
   },
   "outputs": [
    {
     "name": "stdout",
     "output_type": "stream",
     "text": [
      "The probability that 1-day retention is greater when the gate is at level 30: 96.00%\n",
      "The probability that 7-days retention is greater when the gate is at level 30: 99.80%\n"
     ]
    }
   ],
   "source": [
    "# Calculating the probability that 1-day retention is greater when the gate is at level 30\n",
    "prob_1 <- sum(boot_1d$diff > 0) / nrow(boot_1d_df)\n",
    "\n",
    "# Calculating the probability that 7-days retention is greater when the gate is at level 30\n",
    "prob_7 <- sum(boot_7d$diff > 0) / nrow(boot_7d_df)\n",
    "\n",
    "# Pretty printing the probability\n",
    "cat(sprintf(\"The probability that 1-day retention is greater when the gate is at level 30: %.2f%%\\n\", prob_1 * 100))\n",
    "cat(sprintf(\"The probability that 7-days retention is greater when the gate is at level 30: %.2f%%\\n\", prob_7 * 100))"
   ]
  }
 ],
 "metadata": {
  "kernelspec": {
   "display_name": "R",
   "language": "R",
   "name": "ir"
  },
  "language_info": {
   "codemirror_mode": "r",
   "file_extension": ".r",
   "mimetype": "text/x-r-source",
   "name": "R",
   "pygments_lexer": "r",
   "version": "4.3.1"
  }
 },
 "nbformat": 4,
 "nbformat_minor": 2
}
